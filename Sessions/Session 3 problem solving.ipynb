{
 "cells": [
  {
   "cell_type": "code",
   "execution_count": null,
   "id": "e653c707",
   "metadata": {},
   "outputs": [],
   "source": [
    "#1. Load the CSV file with the companies’ data into a data frame.\n",
    "#2. Do you have a text feature of a company? If you don’t, add as a feature the\n",
    "#description of companies’ activities.\n",
    "#3. Apply one of the popular measures of a distance between vectors to find out which\n",
    "#two companies are closest in activities.\n",
    "#4. Extend it with a column containing the web addresses of the companies. Scrap\n",
    "#information from the web pages, read the text paragraphs only.\n",
    "#5. Try to search for some specific information you find relevant applying cosine\n",
    "#similarity measure.\n",
    "#6. Explore the results"
   ]
  },
  {
   "cell_type": "code",
   "execution_count": 2,
   "id": "03d132f3",
   "metadata": {},
   "outputs": [
    {
     "name": "stdout",
     "output_type": "stream",
     "text": [
      "                                     name  \\\n",
      "0                                 KMD A/S   \n",
      "1   PFA PENSION, FORSIKRINGSAKTIESELSKAB.   \n",
      "2                            Dynatest A/S   \n",
      "3                              OTICON A/S   \n",
      "4                          TOPDANMARK A/S   \n",
      "5                           NORTHTECH ApS   \n",
      "6                          Netcompany A/S   \n",
      "7                        NOVO NORDISK A/S   \n",
      "8                   FORMPIPE SOFTWARE A/S   \n",
      "9                     ALPHA SOLUTIONS A/S   \n",
      "10                             DAFOLO A/S   \n",
      "11                             Nuuday A/S   \n",
      "\n",
      "                                         industrydesc  \n",
      "0   Konsulentbistand vedrørende informationsteknologi  \n",
      "1                                      Livsforsikring  \n",
      "2   Fremstilling af udstyr til måling, afprøvning,...  \n",
      "3        Fremstilling af høreapparater og dele hertil  \n",
      "4                        Finansielle holdingselskaber  \n",
      "5                               Computerprogrammering  \n",
      "6   Konsulentbistand vedrørende informationsteknologi  \n",
      "7            Fremstilling af farmaceutiske præparater  \n",
      "8                               Computerprogrammering  \n",
      "9   Konsulentbistand vedrørende informationsteknologi  \n",
      "10                                 Udgivelse af bøger  \n",
      "11                   Fastnetbaseret telekommunikation  \n"
     ]
    }
   ],
   "source": [
    "import pandas as pd\n",
    "import requests\n",
    "from bs4 import BeautifulSoup\n",
    "import pandas as pd\n",
    "import scipy.spatial\n",
    "\n",
    "df = pd.read_json(r'C:/Users/Janus/Datascience/soft2023spring-ds/Assignments/Data/companies.json')\n",
    "\n",
    "\n",
    "descrip = df[[\"name\", \"industrydesc\"]]\n",
    "\n",
    "print(descrip)\n"
   ]
  },
  {
   "cell_type": "code",
   "execution_count": 5,
   "id": "2b704c75",
   "metadata": {},
   "outputs": [
    {
     "name": "stdout",
     "output_type": "stream",
     "text": [
      "KMD A/S\n",
      "Netcompany A/S\n"
     ]
    }
   ],
   "source": [
    "from sklearn.metrics.pairwise import cosine_similarity\n",
    "from sklearn.feature_extraction.text import TfidfVectorizer\n",
    "\n",
    "# create a TfidfVectorizer to transform the activity text into vectors\n",
    "vectorizer = TfidfVectorizer()\n",
    "activity_vectors = vectorizer.fit_transform(df['industrydesc'])\n",
    "\n",
    "\n",
    "# compute the pairwise cosine similarity between the activity vectors\n",
    "similarity_matrix = cosine_similarity(activity_vectors)\n",
    "\n",
    "# find the indices of the two most similar companies\n",
    "max_sim = 0\n",
    "max_i = 0\n",
    "max_j = 0\n",
    "for i in range(similarity_matrix.shape[0]):\n",
    "    for j in range(i+1, similarity_matrix.shape[0]):\n",
    "        if similarity_matrix[i, j] > max_sim:\n",
    "            max_sim = similarity_matrix[i, j]\n",
    "            max_i = i\n",
    "            max_j = j\n",
    "\n",
    "# print the names of the two most similar companies\n",
    "print(df.loc[max_i, 'name'])\n",
    "print(df.loc[max_j, 'name'])"
   ]
  },
  {
   "cell_type": "code",
   "execution_count": 6,
   "id": "ab3e0fd2",
   "metadata": {},
   "outputs": [],
   "source": [
    "#Add the company websites to the dataframe\n",
    "\n",
    "company_websites = ['https://www.kmd.dk/','https://pfa.dk/privat/', 'https://dynatest.com/', \n",
    "                    'https://www.oticon.dk/hearing-aid-users','https://www.topdanmark.dk/','https://northtech.dk/',\n",
    "                    'https://www.netcompany.com/da','https://www.novonordisk.dk/','https://www.formpipe.com/da/',\n",
    "                    'https://www.alpha-solutions.com','https://dafolo.dk/', 'https://nuuday.dk/']\n",
    "\n"
   ]
  },
  {
   "cell_type": "code",
   "execution_count": null,
   "id": "842d0946",
   "metadata": {},
   "outputs": [],
   "source": []
  }
 ],
 "metadata": {
  "kernelspec": {
   "display_name": "Python 3 (ipykernel)",
   "language": "python",
   "name": "python3"
  },
  "language_info": {
   "codemirror_mode": {
    "name": "ipython",
    "version": 3
   },
   "file_extension": ".py",
   "mimetype": "text/x-python",
   "name": "python",
   "nbconvert_exporter": "python",
   "pygments_lexer": "ipython3",
   "version": "3.9.12"
  }
 },
 "nbformat": 4,
 "nbformat_minor": 5
}
