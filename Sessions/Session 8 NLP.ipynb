{
 "cells": [
  {
   "cell_type": "code",
   "execution_count": 1,
   "id": "f587d259",
   "metadata": {},
   "outputs": [
    {
     "name": "stdout",
     "output_type": "stream",
     "text": [
      "Collecting dacy\n",
      "  Downloading dacy-2.4.2-py3-none-any.whl (54 kB)\n",
      "     ---------------------------------------- 54.6/54.6 kB 2.8 MB/s eta 0:00:00\n",
      "Requirement already satisfied: tqdm<4.65.0,>=4.42.1 in c:\\users\\janus\\anaconda3\\lib\\site-packages (from dacy) (4.64.1)\n",
      "Collecting wasabi<0.11.0,>=0.8.2\n",
      "  Downloading wasabi-0.10.1-py3-none-any.whl (26 kB)\n",
      "Requirement already satisfied: sentencepiece<0.2.0,>=0.1.96 in c:\\users\\janus\\anaconda3\\lib\\site-packages (from dacy) (0.1.97)\n",
      "Collecting spacy-wrap<1.5.0,>=1.4.1\n",
      "  Downloading spacy_wrap-1.4.1-py3-none-any.whl (20 kB)\n",
      "Requirement already satisfied: pandas<2.0.0,>=1.0.0 in c:\\users\\janus\\anaconda3\\lib\\site-packages (from dacy) (1.4.4)\n",
      "Collecting spacy<3.6.0,>=3.2.0\n",
      "  Downloading spacy-3.5.1-cp39-cp39-win_amd64.whl (12.2 MB)\n",
      "     --------------------------------------- 12.2/12.2 MB 21.1 MB/s eta 0:00:00\n",
      "Requirement already satisfied: python-dateutil>=2.8.1 in c:\\users\\janus\\anaconda3\\lib\\site-packages (from pandas<2.0.0,>=1.0.0->dacy) (2.8.2)\n",
      "Requirement already satisfied: pytz>=2020.1 in c:\\users\\janus\\anaconda3\\lib\\site-packages (from pandas<2.0.0,>=1.0.0->dacy) (2022.1)\n",
      "Requirement already satisfied: numpy>=1.18.5 in c:\\users\\janus\\anaconda3\\lib\\site-packages (from pandas<2.0.0,>=1.0.0->dacy) (1.23.1)\n",
      "Collecting spacy-loggers<2.0.0,>=1.0.0\n",
      "  Downloading spacy_loggers-1.0.4-py3-none-any.whl (11 kB)\n",
      "Requirement already satisfied: requests<3.0.0,>=2.13.0 in c:\\users\\janus\\anaconda3\\lib\\site-packages (from spacy<3.6.0,>=3.2.0->dacy) (2.28.1)\n",
      "Requirement already satisfied: packaging>=20.0 in c:\\users\\janus\\anaconda3\\lib\\site-packages (from spacy<3.6.0,>=3.2.0->dacy) (21.3)\n",
      "Collecting srsly<3.0.0,>=2.4.3\n",
      "  Downloading srsly-2.4.6-cp39-cp39-win_amd64.whl (482 kB)\n",
      "     ------------------------------------- 482.8/482.8 kB 15.2 MB/s eta 0:00:00\n",
      "Requirement already satisfied: jinja2 in c:\\users\\janus\\anaconda3\\lib\\site-packages (from spacy<3.6.0,>=3.2.0->dacy) (2.11.3)\n",
      "Collecting cymem<2.1.0,>=2.0.2\n",
      "  Downloading cymem-2.0.7-cp39-cp39-win_amd64.whl (30 kB)\n",
      "Collecting smart-open<7.0.0,>=5.2.1\n",
      "  Downloading smart_open-6.3.0-py3-none-any.whl (56 kB)\n",
      "     ---------------------------------------- 56.8/56.8 kB ? eta 0:00:00\n",
      "Collecting spacy-legacy<3.1.0,>=3.0.11\n",
      "  Downloading spacy_legacy-3.0.12-py2.py3-none-any.whl (29 kB)\n",
      "Collecting pydantic!=1.8,!=1.8.1,<1.11.0,>=1.7.4\n",
      "  Downloading pydantic-1.10.6-cp39-cp39-win_amd64.whl (2.2 MB)\n",
      "     ---------------------------------------- 2.2/2.2 MB 27.8 MB/s eta 0:00:00\n",
      "Collecting murmurhash<1.1.0,>=0.28.0\n",
      "  Downloading murmurhash-1.0.9-cp39-cp39-win_amd64.whl (18 kB)\n",
      "Collecting typer<0.8.0,>=0.3.0\n",
      "  Downloading typer-0.7.0-py3-none-any.whl (38 kB)\n",
      "Collecting preshed<3.1.0,>=3.0.2\n",
      "  Downloading preshed-3.0.8-cp39-cp39-win_amd64.whl (96 kB)\n",
      "     ---------------------------------------- 96.8/96.8 kB ? eta 0:00:00\n",
      "Collecting langcodes<4.0.0,>=3.2.0\n",
      "  Downloading langcodes-3.3.0-py3-none-any.whl (181 kB)\n",
      "     ------------------------------------- 181.6/181.6 kB 10.7 MB/s eta 0:00:00\n",
      "Requirement already satisfied: setuptools in c:\\users\\janus\\anaconda3\\lib\\site-packages (from spacy<3.6.0,>=3.2.0->dacy) (63.4.1)\n",
      "Collecting thinc<8.2.0,>=8.1.8\n",
      "  Downloading thinc-8.1.9-cp39-cp39-win_amd64.whl (1.5 MB)\n",
      "     ---------------------------------------- 1.5/1.5 MB 23.6 MB/s eta 0:00:00\n",
      "Collecting pathy>=0.10.0\n",
      "  Downloading pathy-0.10.1-py3-none-any.whl (48 kB)\n",
      "     ---------------------------------------- 48.9/48.9 kB ? eta 0:00:00\n",
      "Collecting catalogue<2.1.0,>=2.0.6\n",
      "  Downloading catalogue-2.0.8-py3-none-any.whl (17 kB)\n",
      "Collecting spacy-transformers<1.3.0,>=1.2.1\n",
      "  Downloading spacy_transformers-1.2.2-cp39-cp39-win_amd64.whl (302 kB)\n",
      "     ------------------------------------- 302.6/302.6 kB 18.3 MB/s eta 0:00:00\n",
      "Requirement already satisfied: colorama in c:\\users\\janus\\anaconda3\\lib\\site-packages (from tqdm<4.65.0,>=4.42.1->dacy) (0.4.5)\n",
      "Requirement already satisfied: pyparsing!=3.0.5,>=2.0.2 in c:\\users\\janus\\anaconda3\\lib\\site-packages (from packaging>=20.0->spacy<3.6.0,>=3.2.0->dacy) (3.0.9)\n",
      "Requirement already satisfied: typing-extensions>=4.2.0 in c:\\users\\janus\\anaconda3\\lib\\site-packages (from pydantic!=1.8,!=1.8.1,<1.11.0,>=1.7.4->spacy<3.6.0,>=3.2.0->dacy) (4.3.0)\n",
      "Requirement already satisfied: six>=1.5 in c:\\users\\janus\\anaconda3\\lib\\site-packages (from python-dateutil>=2.8.1->pandas<2.0.0,>=1.0.0->dacy) (1.16.0)\n",
      "Requirement already satisfied: idna<4,>=2.5 in c:\\users\\janus\\anaconda3\\lib\\site-packages (from requests<3.0.0,>=2.13.0->spacy<3.6.0,>=3.2.0->dacy) (3.4)\n",
      "Requirement already satisfied: charset-normalizer<3,>=2 in c:\\users\\janus\\anaconda3\\lib\\site-packages (from requests<3.0.0,>=2.13.0->spacy<3.6.0,>=3.2.0->dacy) (2.0.4)\n",
      "Requirement already satisfied: urllib3<1.27,>=1.21.1 in c:\\users\\janus\\anaconda3\\lib\\site-packages (from requests<3.0.0,>=2.13.0->spacy<3.6.0,>=3.2.0->dacy) (1.26.11)\n",
      "Requirement already satisfied: certifi>=2017.4.17 in c:\\users\\janus\\anaconda3\\lib\\site-packages (from requests<3.0.0,>=2.13.0->spacy<3.6.0,>=3.2.0->dacy) (2022.12.7)\n",
      "Requirement already satisfied: torch>=1.8.0 in c:\\users\\janus\\anaconda3\\lib\\site-packages (from spacy-transformers<1.3.0,>=1.2.1->spacy-wrap<1.5.0,>=1.4.1->dacy) (1.13.1)\n",
      "Collecting spacy-alignments<1.0.0,>=0.7.2\n",
      "  Downloading spacy_alignments-0.9.0-cp39-cp39-win_amd64.whl (186 kB)\n",
      "     ------------------------------------- 186.7/186.7 kB 11.0 MB/s eta 0:00:00\n",
      "Requirement already satisfied: transformers<4.27.0,>=3.4.0 in c:\\users\\janus\\anaconda3\\lib\\site-packages (from spacy-transformers<1.3.0,>=1.2.1->spacy-wrap<1.5.0,>=1.4.1->dacy) (4.26.1)\n",
      "Collecting confection<1.0.0,>=0.0.1\n",
      "  Downloading confection-0.0.4-py3-none-any.whl (32 kB)\n",
      "Collecting blis<0.8.0,>=0.7.8\n",
      "  Downloading blis-0.7.9-cp39-cp39-win_amd64.whl (7.0 MB)\n",
      "     ---------------------------------------- 7.0/7.0 MB 14.0 MB/s eta 0:00:00\n",
      "Requirement already satisfied: click<9.0.0,>=7.1.1 in c:\\users\\janus\\anaconda3\\lib\\site-packages (from typer<0.8.0,>=0.3.0->spacy<3.6.0,>=3.2.0->dacy) (8.0.4)\n",
      "Requirement already satisfied: MarkupSafe>=0.23 in c:\\users\\janus\\anaconda3\\lib\\site-packages (from jinja2->spacy<3.6.0,>=3.2.0->dacy) (2.0.1)\n",
      "Requirement already satisfied: pyyaml>=5.1 in c:\\users\\janus\\anaconda3\\lib\\site-packages (from transformers<4.27.0,>=3.4.0->spacy-transformers<1.3.0,>=1.2.1->spacy-wrap<1.5.0,>=1.4.1->dacy) (6.0)\n",
      "Requirement already satisfied: filelock in c:\\users\\janus\\anaconda3\\lib\\site-packages (from transformers<4.27.0,>=3.4.0->spacy-transformers<1.3.0,>=1.2.1->spacy-wrap<1.5.0,>=1.4.1->dacy) (3.6.0)\n",
      "Requirement already satisfied: huggingface-hub<1.0,>=0.11.0 in c:\\users\\janus\\anaconda3\\lib\\site-packages (from transformers<4.27.0,>=3.4.0->spacy-transformers<1.3.0,>=1.2.1->spacy-wrap<1.5.0,>=1.4.1->dacy) (0.12.0)\n",
      "Requirement already satisfied: tokenizers!=0.11.3,<0.14,>=0.11.1 in c:\\users\\janus\\anaconda3\\lib\\site-packages (from transformers<4.27.0,>=3.4.0->spacy-transformers<1.3.0,>=1.2.1->spacy-wrap<1.5.0,>=1.4.1->dacy) (0.13.2)\n",
      "Requirement already satisfied: regex!=2019.12.17 in c:\\users\\janus\\anaconda3\\lib\\site-packages (from transformers<4.27.0,>=3.4.0->spacy-transformers<1.3.0,>=1.2.1->spacy-wrap<1.5.0,>=1.4.1->dacy) (2022.10.31)\n",
      "Installing collected packages: wasabi, cymem, spacy-loggers, spacy-legacy, spacy-alignments, smart-open, pydantic, murmurhash, langcodes, catalogue, blis, typer, srsly, preshed, pathy, confection, thinc, spacy, spacy-transformers, spacy-wrap, dacy\n",
      "Successfully installed blis-0.7.9 catalogue-2.0.8 confection-0.0.4 cymem-2.0.7 dacy-2.4.2 langcodes-3.3.0 murmurhash-1.0.9 pathy-0.10.1 preshed-3.0.8 pydantic-1.10.6 smart-open-6.3.0 spacy-3.5.1 spacy-alignments-0.9.0 spacy-legacy-3.0.12 spacy-loggers-1.0.4 spacy-transformers-1.2.2 spacy-wrap-1.4.1 srsly-2.4.6 thinc-8.1.9 typer-0.7.0 wasabi-0.10.1\n"
     ]
    }
   ],
   "source": [
    "!pip install dacy"
   ]
  },
  {
   "cell_type": "code",
   "execution_count": 2,
   "id": "0fb686ca",
   "metadata": {},
   "outputs": [
    {
     "name": "stdout",
     "output_type": "stream",
     "text": [
      "da_dacy_small_tft-0.0.0\n",
      "da_dacy_medium_tft-0.0.0\n",
      "da_dacy_large_tft-0.0.0\n",
      "da_dacy_small_trf-0.1.0\n",
      "da_dacy_medium_trf-0.1.0\n",
      "da_dacy_large_trf-0.1.0\n",
      "da_dacy_small_trf-latest\n",
      "da_dacy_medium_trf-latest\n",
      "da_dacy_large_trf-latest\n"
     ]
    }
   ],
   "source": [
    "import dacy\n",
    "for model in dacy.models():\n",
    "    print(model)\n",
    "# ...\n",
    "# da_dacy_small_trf-0.1.0\n",
    "# da_dacy_medium_trf-0.1.0\n",
    "# da_dacy_large_trf-0.1.0"
   ]
  },
  {
   "cell_type": "code",
   "execution_count": 3,
   "id": "67452918",
   "metadata": {},
   "outputs": [
    {
     "ename": "ValueError",
     "evalue": "The model is not available in DaCy. Please use dacy.models() to see a list of all models",
     "output_type": "error",
     "traceback": [
      "\u001b[1;31m---------------------------------------------------------------------------\u001b[0m",
      "\u001b[1;31mValueError\u001b[0m                                Traceback (most recent call last)",
      "Cell \u001b[1;32mIn [3], line 1\u001b[0m\n\u001b[1;32m----> 1\u001b[0m nlp \u001b[38;5;241m=\u001b[39m dacy\u001b[38;5;241m.\u001b[39mload(\u001b[38;5;124m\"\u001b[39m\u001b[38;5;124mda_dacy_medium_tfrf-0.1.0\u001b[39m\u001b[38;5;124m\"\u001b[39m)\n\u001b[0;32m      2\u001b[0m \u001b[38;5;66;03m# or equivalently\u001b[39;00m\n\u001b[0;32m      3\u001b[0m nlp \u001b[38;5;241m=\u001b[39m dacy\u001b[38;5;241m.\u001b[39mload(\u001b[38;5;124m\"\u001b[39m\u001b[38;5;124mmedium\u001b[39m\u001b[38;5;124m\"\u001b[39m)\n",
      "File \u001b[1;32m~\\anaconda3\\lib\\site-packages\\dacy\\load.py:42\u001b[0m, in \u001b[0;36mload\u001b[1;34m(model, path, force_download, **kwargs)\u001b[0m\n\u001b[0;32m     39\u001b[0m \u001b[38;5;28;01mif\u001b[39;00m path \u001b[38;5;129;01mis\u001b[39;00m \u001b[38;5;28;01mNone\u001b[39;00m:\n\u001b[0;32m     40\u001b[0m     path \u001b[38;5;241m=\u001b[39m DEFAULT_CACHE_DIR\n\u001b[1;32m---> 42\u001b[0m path \u001b[38;5;241m=\u001b[39m \u001b[43mdownload_model\u001b[49m\u001b[43m(\u001b[49m\u001b[43mmodel\u001b[49m\u001b[43m,\u001b[49m\u001b[43m \u001b[49m\u001b[43mpath\u001b[49m\u001b[43m,\u001b[49m\u001b[43m \u001b[49m\u001b[43mforce\u001b[49m\u001b[38;5;241;43m=\u001b[39;49m\u001b[43mforce_download\u001b[49m\u001b[43m)\u001b[49m\n\u001b[0;32m     43\u001b[0m \u001b[38;5;28;01mreturn\u001b[39;00m spacy\u001b[38;5;241m.\u001b[39mload(path, \u001b[38;5;241m*\u001b[39m\u001b[38;5;241m*\u001b[39mkwargs)\n",
      "File \u001b[1;32m~\\anaconda3\\lib\\site-packages\\dacy\\download.py:91\u001b[0m, in \u001b[0;36mdownload_model\u001b[1;34m(model, save_path, force, verbose)\u001b[0m\n\u001b[0;32m     88\u001b[0m     model \u001b[38;5;241m=\u001b[39m \u001b[38;5;124mf\u001b[39m\u001b[38;5;124m\"\u001b[39m\u001b[38;5;124mda_dacy_\u001b[39m\u001b[38;5;132;01m{\u001b[39;00mmodel\u001b[38;5;132;01m}\u001b[39;00m\u001b[38;5;124m_trf-latest\u001b[39m\u001b[38;5;124m\"\u001b[39m\n\u001b[0;32m     90\u001b[0m \u001b[38;5;28;01mif\u001b[39;00m model \u001b[38;5;129;01mnot\u001b[39;00m \u001b[38;5;129;01min\u001b[39;00m models_url:\n\u001b[1;32m---> 91\u001b[0m     \u001b[38;5;28;01mraise\u001b[39;00m \u001b[38;5;167;01mValueError\u001b[39;00m(\n\u001b[0;32m     92\u001b[0m         \u001b[38;5;124m\"\u001b[39m\u001b[38;5;124mThe model is not available in DaCy. Please use dacy.models() to see a\u001b[39m\u001b[38;5;124m\"\u001b[39m\n\u001b[0;32m     93\u001b[0m         \u001b[38;5;241m+\u001b[39m \u001b[38;5;124m\"\u001b[39m\u001b[38;5;124m list of all models\u001b[39m\u001b[38;5;124m\"\u001b[39m,\n\u001b[0;32m     94\u001b[0m     )\n\u001b[0;32m     96\u001b[0m version \u001b[38;5;241m=\u001b[39m model\u001b[38;5;241m.\u001b[39msplit(\u001b[38;5;124m\"\u001b[39m\u001b[38;5;124m-\u001b[39m\u001b[38;5;124m\"\u001b[39m)[\u001b[38;5;241m-\u001b[39m\u001b[38;5;241m1\u001b[39m]\n\u001b[0;32m     97\u001b[0m \u001b[38;5;28;01mif\u001b[39;00m version \u001b[38;5;241m==\u001b[39m \u001b[38;5;124m\"\u001b[39m\u001b[38;5;124m0.0.0\u001b[39m\u001b[38;5;124m\"\u001b[39m:\n",
      "\u001b[1;31mValueError\u001b[0m: The model is not available in DaCy. Please use dacy.models() to see a list of all models"
     ]
    }
   ],
   "source": [
    "nlp = dacy.load(\"da_dacy_medium_tfrf-0.1.0\")\n",
    "# or equivalently\n",
    "nlp = dacy.load(\"medium\")"
   ]
  },
  {
   "cell_type": "code",
   "execution_count": null,
   "id": "c75debdc",
   "metadata": {},
   "outputs": [],
   "source": [
    "dacy.download_model(\"da_dacy_medium_trf-0.1.0\", your_save_path)\n",
    "nlp = dacy.load_model(\"da_dacy_medium_trf-0.1.0\", your_save_path)"
   ]
  }
 ],
 "metadata": {
  "kernelspec": {
   "display_name": "Python 3 (ipykernel)",
   "language": "python",
   "name": "python3"
  },
  "language_info": {
   "codemirror_mode": {
    "name": "ipython",
    "version": 3
   },
   "file_extension": ".py",
   "mimetype": "text/x-python",
   "name": "python",
   "nbconvert_exporter": "python",
   "pygments_lexer": "ipython3",
   "version": "3.9.12"
  }
 },
 "nbformat": 4,
 "nbformat_minor": 5
}
